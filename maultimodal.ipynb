{
 "cells": [
  {
   "cell_type": "code",
   "execution_count": 1,
   "metadata": {},
   "outputs": [],
   "source": [
    "\n",
    "import os\n",
    "import uuid\n",
    "import base64\n",
    "from IPython import display\n",
    "from unstructured.partition.pdf import partition_pdf\n",
    "from langchain_openai import ChatOpenAI\n",
    "from langchain_openai import OpenAIEmbeddings\n",
    "from langchain.chains import LLMChain\n",
    "from langchain.prompts import PromptTemplate\n",
    "from langchain.schema import HumanMessage, SystemMessage\n",
    "from langchain.schema.document import Document\n",
    "from langchain_community.vectorstores import FAISS\n",
    "from langchain.retrievers.multi_vector import MultiVectorRetriever"
   ]
  },
  {
   "cell_type": "code",
   "execution_count": 2,
   "metadata": {},
   "outputs": [],
   "source": [
    "openai_api_key = \"\""
   ]
  },
  {
   "cell_type": "code",
   "execution_count": 3,
   "metadata": {},
   "outputs": [],
   "source": [
    "output_path = \"./images\""
   ]
  },
  {
   "cell_type": "code",
   "execution_count": 4,
   "metadata": {},
   "outputs": [
    {
     "name": "stderr",
     "output_type": "stream",
     "text": [
      "Some weights of the model checkpoint at microsoft/table-transformer-structure-recognition were not used when initializing TableTransformerForObjectDetection: ['model.backbone.conv_encoder.model.layer3.0.downsample.1.num_batches_tracked', 'model.backbone.conv_encoder.model.layer4.0.downsample.1.num_batches_tracked', 'model.backbone.conv_encoder.model.layer2.0.downsample.1.num_batches_tracked']\n",
      "- This IS expected if you are initializing TableTransformerForObjectDetection from the checkpoint of a model trained on another task or with another architecture (e.g. initializing a BertForSequenceClassification model from a BertForPreTraining model).\n",
      "- This IS NOT expected if you are initializing TableTransformerForObjectDetection from the checkpoint of a model that you expect to be exactly identical (initializing a BertForSequenceClassification model from a BertForSequenceClassification model).\n"
     ]
    }
   ],
   "source": [
    "# Get elements\n",
    "raw_pdf_elements = partition_pdf(\n",
    "    filename=\"./AC-Aids-for-Dogs_Canine-Periodontal-Disease.pdf\",\n",
    "    extract_images_in_pdf=True,\n",
    "    infer_table_structure=True,\n",
    "    chunking_strategy=\"by_title\",\n",
    "    max_characters=4000,\n",
    "    new_after_n_chars=3800,\n",
    "    combine_text_under_n_chars=2000,\n",
    "    extract_image_block_output_dir=output_path,\n",
    ")"
   ]
  },
  {
   "cell_type": "code",
   "execution_count": 20,
   "metadata": {},
   "outputs": [],
   "source": [
    "# Get text summaries and table summaries\n",
    "text_elements = []\n",
    "table_elements = []\n",
    "\n",
    "text_summaries = []\n",
    "table_summaries = []\n",
    "\n",
    "summary_prompt = \"\"\"\n",
    "Summarize the following {element_type}:\n",
    "{element}\n",
    "\"\"\"\n",
    "summary_chain = LLMChain(\n",
    "    llm=ChatOpenAI(model=\"gpt-3.5-turbo\", openai_api_key = openai_api_key, max_tokens=1024),\n",
    "    prompt=PromptTemplate.from_template(summary_prompt)\n",
    ")\n",
    "\n",
    "for e in raw_pdf_elements:\n",
    "    if 'CompositeElement' in repr(e):\n",
    "        text_elements.append(e.text)\n",
    "        summary = summary_chain.run({'element_type': 'text', 'element': e})\n",
    "        text_summaries.append(summary)\n",
    "\n",
    "    elif 'Table' in repr(e):\n",
    "        table_elements.append(e.text)\n",
    "        summary = summary_chain.run({'element_type': 'table', 'element': e})\n",
    "        table_summaries.append(summary)"
   ]
  },
  {
   "cell_type": "code",
   "execution_count": 21,
   "metadata": {},
   "outputs": [
    {
     "data": {
      "text/plain": [
       "[\"Canine Periodontal Disease (PD) is a bacterial infection that causes inflammation of the tissues and bone surrounding and supporting a dog's teeth. It is also known as dental disease. PD develops when plaque forms along the gumline and hardens into tartar, irritating the gums and causing inflammation called gingivitis. If left untreated, the tartar builds up under the gum line, resulting in PD. Dogs may experience pain, infection, abscesses, and tooth loss as the disease progresses. Certain risk factors for PD include excessive drooling, licking, loss of appetite, repeated pawing or rubbing of the face, weight loss, aggression, head shyness, swelling of the face, and difficulty chewing. Age, muzzle length, and breed can also increase the risk of PD. PD can lead to significant health and welfare problems, such as kidney disease, liver disease, tooth loss, heart disease, and bleeding gums. If any signs of PD are observed in a dog, it is recommended to consult with a veterinarian for treatment options.\",\n",
       " 'The text provides contact information for the Center for Animal Welfare and states that the Department of Agriculture is an equal opportunity provider, employer, and lender. It also mentions a credit and a code, AC-18-002, but does not provide further information on these topics. The text ends with the phrase \"Tartar,\" which appears to be unrelated to the rest of the information provided.']"
      ]
     },
     "execution_count": 21,
     "metadata": {},
     "output_type": "execute_result"
    }
   ],
   "source": [
    "text_summaries"
   ]
  },
  {
   "cell_type": "code",
   "execution_count": 9,
   "metadata": {},
   "outputs": [],
   "source": [
    "from langchain_core.messages import HumanMessage\n",
    "from langchain_google_genai import ChatGoogleGenerativeAI\n",
    "import google.generativeai as genai\n",
    "genai.configure(api_key=\"\")\n"
   ]
  },
  {
   "cell_type": "code",
   "execution_count": 12,
   "metadata": {},
   "outputs": [],
   "source": [
    "# Get image summaries\n",
    "image_elements = []\n",
    "image_summaries = []\n",
    "\n",
    "def encode_image(image_path):\n",
    "    with open(image_path, \"rb\") as f:\n",
    "        return base64.b64encode(f.read()).decode('utf-8')\n",
    "\n",
    "def summarize_image(encoded_image):\n",
    "    prompt = [\n",
    "        HumanMessage(content=[\n",
    "            {\n",
    "                \"type\": \"text\",\n",
    "                \"text\": \"You are a bot that is good at analyzing images related to Dog's health. Describe the contents of this image.\"\n",
    "            },\n",
    "            {\n",
    "                \"type\": \"image_url\",\n",
    "                \"image_url\": {\n",
    "                    \"url\": f\"data:image/jpeg;base64,{encoded_image}\"\n",
    "                },\n",
    "            },\n",
    "        ])\n",
    "    ]\n",
    "    response = ChatGoogleGenerativeAI(model=\"gemini-pro-vision\", google_api_key=\"\").invoke(prompt)\n",
    "    return response.content\n",
    "\n",
    "for i in os.listdir(output_path):\n",
    "    if i.endswith(('.png', '.jpg', '.jpeg')):\n",
    "        image_path = os.path.join(output_path, i)\n",
    "        encoded_image = encode_image(image_path)\n",
    "        image_elements.append(encoded_image)\n",
    "        summary = summarize_image(encoded_image)\n",
    "        image_summaries.append(summary)\n",
    "     \n"
   ]
  },
  {
   "cell_type": "code",
   "execution_count": 22,
   "metadata": {},
   "outputs": [
    {
     "name": "stdout",
     "output_type": "stream",
     "text": [
      "<class 'str'>\n",
      "<class 'str'>\n"
     ]
    }
   ],
   "source": [
    "# Create Documents and Vectorstore\n",
    "documents = []\n",
    "retrieve_contents = []\n",
    "\n",
    "for e, s in zip(text_elements, text_summaries):\n",
    "    i = str(uuid.uuid4())\n",
    "    print(type(s))\n",
    "    doc = Document(\n",
    "        page_content = s,\n",
    "        metadata = {\n",
    "            'id': i,\n",
    "            'type': 'text',\n",
    "            'original_content': e\n",
    "        }\n",
    "    )\n",
    "    retrieve_contents.append((i, e))\n",
    "    documents.append(doc)\n",
    "\n",
    "for e, s in zip(table_elements, table_summaries):\n",
    "    doc = Document(\n",
    "        page_content = s,\n",
    "        metadata = {\n",
    "            'id': i,\n",
    "            'type': 'table',\n",
    "            'original_content': e\n",
    "        }\n",
    "    )\n",
    "    retrieve_contents.append((i, e))\n",
    "    documents.append(doc)\n",
    "\n",
    "for e, s in zip(image_elements, image_summaries):\n",
    "    doc = Document(\n",
    "        page_content = s,\n",
    "        metadata = {\n",
    "            'id': i,\n",
    "            'type': 'image',\n",
    "            'original_content': e\n",
    "        }\n",
    "    )\n",
    "    retrieve_contents.append((i, s))\n",
    "    documents.append(doc)\n",
    "\n",
    "vectorstore = FAISS.from_documents(documents=documents, embedding=OpenAIEmbeddings(openai_api_key=openai_api_key))"
   ]
  },
  {
   "cell_type": "code",
   "execution_count": 23,
   "metadata": {},
   "outputs": [],
   "source": [
    "vectorstore.save_local(\"faiss_index\")"
   ]
  },
  {
   "cell_type": "code",
   "execution_count": 24,
   "metadata": {},
   "outputs": [],
   "source": [
    "embeddings = OpenAIEmbeddings(openai_api_key=openai_api_key)"
   ]
  },
  {
   "cell_type": "code",
   "execution_count": 25,
   "metadata": {},
   "outputs": [],
   "source": [
    "\n",
    "db = FAISS.load_local(\"faiss_index\", embeddings)"
   ]
  },
  {
   "cell_type": "code",
   "execution_count": 26,
   "metadata": {},
   "outputs": [],
   "source": [
    "prompt_template = \"\"\"\n",
    "You are a vet doctor and an expert in analyzing dog's health.\n",
    "Answer the question based only on the following context, which can include text, images and tables:\n",
    "{context}\n",
    "Question: {question}\n",
    "Don't answer if you are not sure and decline to answer and say \"Sorry, I don't have much information about it.\"\n",
    "Just return the helpful answer in as much as detailed possible.\n",
    "Answer:\n",
    "\"\"\""
   ]
  },
  {
   "cell_type": "code",
   "execution_count": 27,
   "metadata": {},
   "outputs": [],
   "source": [
    "qa_chain = LLMChain(llm=ChatOpenAI(model=\"gpt-3.5-turbo\", openai_api_key = openai_api_key, max_tokens=1024),\n",
    "                        prompt=PromptTemplate.from_template(prompt_template))"
   ]
  },
  {
   "cell_type": "code",
   "execution_count": 28,
   "metadata": {},
   "outputs": [],
   "source": [
    "def answer(question):\n",
    "    relevant_docs = db.similarity_search(question)\n",
    "    context = \"\"\n",
    "    relevant_images = []\n",
    "    for d in relevant_docs:\n",
    "        if d.metadata['type'] == 'text':\n",
    "            context += '[text]' + d.metadata['original_content']\n",
    "        elif d.metadata['type'] == 'table':\n",
    "            context += '[table]' + d.metadata['original_content']\n",
    "        elif d.metadata['type'] == 'image':\n",
    "            context += '[image]' + d.page_content\n",
    "            relevant_images.append(d.metadata['original_content'])\n",
    "    result = qa_chain.run({'context': context, 'question': question})\n",
    "    return result, relevant_images"
   ]
  },
  {
   "cell_type": "code",
   "execution_count": 29,
   "metadata": {},
   "outputs": [
    {
     "name": "stdout",
     "output_type": "stream",
     "text": [
      "Gingivitis is an inflammation of the gums that occurs due to the accumulation of plaque and tartar on the teeth. In the context provided, it is mentioned that when food and bacteria collect along the gumline, plaque forms, and over time, it hardens into tartar. The tartar irritates the gums, leading to inflammation, which is known as gingivitis. \n",
      "\n",
      "If left untreated, gingivitis can progress to a more serious condition called periodontitis, which is an infection of the gums and the bone that supports the teeth. Periodontitis can cause pain, infection, abscesses, and tooth loss in dogs.\n",
      "\n",
      "The context also includes images of a dog's tooth covered in plaque and tartar, as well as a dog's teeth with yellow/orange tartar and gingivitis. Additionally, it mentions that gingivitis is characterized by redness and inflammation at the gumline and a large amount of yellowish material on the teeth.\n",
      "\n",
      "Therefore, based on the information and visuals provided, it can be concluded that gingivitis is an inflammatory condition of the gums caused by the buildup of plaque and tartar on the teeth.\n"
     ]
    }
   ],
   "source": [
    "\n",
    "result, relevant_images = answer(\"What is Gingivitis?\")\n",
    "print(result)"
   ]
  },
  {
   "cell_type": "code",
   "execution_count": 34,
   "metadata": {},
   "outputs": [
    {
     "data": {
      "image/jpeg": "[encoded data removed]",
      "text/plain": [
       "<IPython.core.display.Image object>"
      ]
     },
     "metadata": {},
     "output_type": "display_data"
    }
   ],
   "source": [
    "display.display(display.Image(base64.b64decode(relevant_images[0])))"
   ]
  },
  {
   "cell_type": "code",
   "execution_count": null,
   "metadata": {},
   "outputs": [],
   "source": []
  }
 ],
 "metadata": {
  "kernelspec": {
   "display_name": "Python 3",
   "language": "python",
   "name": "python3"
  },
  "language_info": {
   "codemirror_mode": {
    "name": "ipython",
    "version": 3
   },
   "file_extension": ".py",
   "mimetype": "text/x-python",
   "name": "python",
   "nbconvert_exporter": "python",
   "pygments_lexer": "ipython3",
   "version": "3.9.17"
  }
 },
 "nbformat": 4,
 "nbformat_minor": 2
}
